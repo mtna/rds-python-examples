{
 "cells": [
  {
   "cell_type": "markdown",
   "metadata": {},
   "source": [
    "# Catalog\n",
    "---"
   ]
  },
  {
   "cell_type": "markdown",
   "metadata": {},
   "source": [
    "Check out our available sets of data on the COVID-19 pandemic. Each one can be accessed by specifying their **ID** when creating a DataProduct."
   ]
  },
  {
   "cell_type": "code",
   "execution_count": null,
   "metadata": {},
   "outputs": [],
   "source": [
    "from IPython.core.display import display, HTML\n",
    "from rds import DataProduct\n",
    "from util import formatter\n",
    "\n",
    "dp = DataProduct('http://dev.richdataservices.com', 'covid19')\n",
    "display(HTML(formatter.html_catalog(dp)))"
   ]
  },
  {
   "cell_type": "markdown",
   "metadata": {},
   "source": [
    "# Variables\n",
    "---"
   ]
  },
  {
   "cell_type": "markdown",
   "metadata": {},
   "source": [
    "Each variable represents a column of data in a data set. The **ID**s can be used to select data, filter, and create computations when making queries to a data set."
   ]
  },
  {
   "cell_type": "code",
   "execution_count": null,
   "metadata": {},
   "outputs": [],
   "source": [
    "from IPython.core.display import display, HTML\n",
    "from rds import DataProduct\n",
    "from util import formatter\n",
    "\n",
    "dp = DataProduct('http://dev.richdataservices.com', 'covid19', 'us_oh_doh')\n",
    "display(HTML(formatter.html_variables(dp)))"
   ]
  },
  {
   "cell_type": "markdown",
   "metadata": {},
   "source": [
    "# Classification\n",
    "---"
   ]
  },
  {
   "cell_type": "markdown",
   "metadata": {},
   "source": [
    "Some variables have values that stand for something else. You can lookup their classification to see what these coded values stand for."
   ]
  },
  {
   "cell_type": "code",
   "execution_count": null,
   "metadata": {},
   "outputs": [],
   "source": [
    "from IPython.core.display import display, HTML\n",
    "from rds import DataProduct\n",
    "from util import formatter\n",
    "\n",
    "dp = DataProduct('http://dev.richdataservices.com', 'covid19', 'us_oh_doh')\n",
    "display(HTML(formatter.html_classification(dp, 'us_county_fips')))"
   ]
  }
 ],
 "metadata": {
  "kernelspec": {
   "display_name": "Python 3",
   "language": "python",
   "name": "python3"
  },
  "language_info": {
   "codemirror_mode": {
    "name": "ipython",
    "version": 3
   },
   "file_extension": ".py",
   "mimetype": "text/x-python",
   "name": "python",
   "nbconvert_exporter": "python",
   "pygments_lexer": "ipython3",
   "version": "3.7.6"
  }
 },
 "nbformat": 4,
 "nbformat_minor": 4
}
