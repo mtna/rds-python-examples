{
 "cells": [
  {
   "cell_type": "markdown",
   "metadata": {},
   "source": [
    "## Mobility changes\n",
    "This dataset is intended to help remediate the impact of COVID-19. It shouldn’t be used for medical\n",
    "diagnostic, prognostic, or treatment purposes. It also isn’t intended to be used for guidance on personal\n",
    "travel plans.  \n",
    "  \n",
    "Each Community Mobility Report dataset is presented by location and highlights the percent change in\n",
    "visits to places like grocery stores and parks within a geographic area. [How to use this report](https://support.google.com/covid19-mobility#topic=9822927).  \n",
    "  \n",
    "Location accuracy and the understanding of categorized places varies from region to region, so we\n",
    "don’t recommend using this data to compare changes between countries, or between regions with\n",
    "different characteristics (e.g. rural versus urban areas).  \n",
    "  \n",
    "To learn how we calculate these trends and preserve privacy, read [About this data](#About-this-data)."
   ]
  },
  {
   "cell_type": "code",
   "execution_count": null,
   "metadata": {},
   "outputs": [],
   "source": [
    "from util import google_mobility_country as gmc\n",
    "\n",
    "gmc.interactive()"
   ]
  },
  {
   "cell_type": "markdown",
   "metadata": {},
   "source": [
    "## About this data\n",
    "These reports show how visits and length of stay\n",
    "at different places change compared to a\n",
    "baseline. We calculate these changes using the\n",
    "same kind of aggregated and anonymized data\n",
    "used to show [popular times](https://support.google.com/business/answer/6263531) for places in Google\n",
    "Maps.  \n",
    "  \n",
    "  Changes for each day are compared to a\n",
    "baseline value for that day of the week:  \n",
    "  \n",
    "  - The baseline is the median value, for the\n",
    "corresponding day of the week, during the 5-\n",
    "week period Jan 3–Feb 6, 2020.  \n",
    "  \n",
    "  - The reports show trends over several weeks\n",
    "with the most recent data representing\n",
    "approximately 2-3 days ago—this is how long it\n",
    "takes to produce the reports.  \n",
    "  \n",
    "What data is included in the calculation depends\n",
    "on user settings, connectivity, and whether it\n",
    "meets our privacy threshold. If the privacy\n",
    "threshold isn’t met (when somewhere isn’t busy\n",
    "enough to ensure anonymity) we don’t show a\n",
    "change for the day.  \n",
    "  \n",
    "We include categories that are useful to social\n",
    "distancing efforts as well as access to essential\n",
    "services.  \n",
    "  \n",
    "We calculate these insights based on data from\n",
    "users who have opted-in to Location History for\n",
    "their Google Account, so the data represents a\n",
    "sample of our users. As with all samples, this may\n",
    "or may not represent the exact behavior of a\n",
    "wider population.  \n",
    "  \n",
    "We continue to improve our reports as places\n",
    "close and reopen. We updated the way we\n",
    "calculate changes for *Groceries & pharmacy,\n",
    "Retail & recreation, Transit stations*, and *Parks*\n",
    "categories. For regions published before May\n",
    "2020, the data may contain a consistent shift\n",
    "either up or down that starts between April 11–18,\n",
    "2020."
   ]
  },
  {
   "cell_type": "markdown",
   "metadata": {},
   "source": [
    "## Preserving privacy\n",
    "These reports were developed to be helpful while\n",
    "adhering to our stringent privacy protocols and\n",
    "protecting people’s privacy. No personally\n",
    "identifiable information, like an individual’s\n",
    "location, contacts or movement, is made\n",
    "available at any point.  \n",
    "  \n",
    "Insights in these reports are created with\n",
    "aggregated, anonymized sets of data from users\n",
    "who have turned on the [Location History](https://support.google.com/accounts/answer/3118687) setting,\n",
    "which is off by default. People who have Location\n",
    "History turned on can choose to turn it off at any\n",
    "time from their [Google Account](https://myactivity.google.com/activitycontrols?authuser=0) and can always\n",
    "delete Location History data directly from their\n",
    "[Timeline](https://www.google.com/locationhistory/delete).  \n",
    "  \n",
    "These reports are powered by the same worldclass anonymization technology that we use in\n",
    "our products every day and that keep your\n",
    "activity data private and secure. These reports\n",
    "use [differential privacy](https://www.youtube.com/watch?v=FfAdemDkLsc), which adds artificial\n",
    "noise to our datasets enabling high quality results\n",
    "without identifying any individual person. These\n",
    "privacy-preserving protections also ensure that\n",
    "the absolute number of visits isn’t shared."
   ]
  },
  {
   "cell_type": "markdown",
   "metadata": {},
   "source": [
    "## Further resources\n",
    "To learn how you can best use this report in your\n",
    "work, visit [Mobility Reports Help](https://support.google.com/covid19-mobility#topic=9822927).  \n",
    "  \n",
    "To get the latest report, visit\n",
    "[google.com/covid19/mobility](https://www.google.com/covid19/mobility/)"
   ]
  }
 ],
 "metadata": {
  "kernelspec": {
   "display_name": "Python 3",
   "language": "python",
   "name": "python3"
  },
  "language_info": {
   "codemirror_mode": {
    "name": "ipython",
    "version": 3
   },
   "file_extension": ".py",
   "mimetype": "text/x-python",
   "name": "python",
   "nbconvert_exporter": "python",
   "pygments_lexer": "ipython3",
   "version": "3.7.6"
  }
 },
 "nbformat": 4,
 "nbformat_minor": 4
}
