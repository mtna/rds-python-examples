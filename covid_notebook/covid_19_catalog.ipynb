{
 "cells": [
  {
   "cell_type": "markdown",
   "metadata": {},
   "source": [
    "# Catalog\n",
    "---"
   ]
  },
  {
   "cell_type": "markdown",
   "metadata": {},
   "source": [
    "Check out our available sets of data on the COVID-19 pandemic. Each one can be accessed by specifying their **ID** when creating a DataProduct."
   ]
  },
  {
   "cell_type": "code",
   "execution_count": null,
   "metadata": {},
   "outputs": [],
   "source": [
    "from IPython.core.display import display, HTML\n",
    "from rds import Server\n",
    "from util import formatter\n",
    "\n",
    "server = Server('https://covid19.richdataservices.com')\n",
    "catalog = server.get_catalog('us_oh')\n",
    "display(HTML(formatter.html_catalog(catalog)))"
   ]
  },
  {
   "cell_type": "markdown",
   "metadata": {},
   "source": [
    "# Variables\n",
    "---"
   ]
  },
  {
   "cell_type": "markdown",
   "metadata": {},
   "source": [
    "Each variable represents a column of data in a data set. The **ID**s can be used to select data, filter, and create computations when making queries to a data set."
   ]
  },
  {
   "cell_type": "code",
   "execution_count": null,
   "metadata": {},
   "outputs": [],
   "source": [
    "from IPython.core.display import display, HTML\n",
    "from rds import Server\n",
    "from util import formatter\n",
    "\n",
    "server = Server('https://covid19.richdataservices.com')\n",
    "catalog = server.get_catalog('us_oh')\n",
    "dp = catalog.get_dataproduct('oh_doh_cases')\n",
    "display(HTML(formatter.html_variables(dp)))"
   ]
  },
  {
   "cell_type": "markdown",
   "metadata": {},
   "source": [
    "# Classification\n",
    "---"
   ]
  },
  {
   "cell_type": "markdown",
   "metadata": {},
   "source": [
    "Some variables have values that stand for something else. You can lookup their classification to see what these coded values stand for."
   ]
  },
  {
   "cell_type": "code",
   "execution_count": null,
   "metadata": {},
   "outputs": [],
   "source": [
    "from IPython.core.display import display, HTML\n",
    "from rds import Server\n",
    "from util import formatter\n",
    "\n",
    "server = Server('https://covid19.richdataservices.com')\n",
    "catalog = server.get_catalog('us_oh')\n",
    "dp = catalog.get_dataproduct('oh_doh_cases')\n",
    "display(HTML(formatter.html_classification(dp, 'us_county_fips')))"
   ]
  }
 ],
 "metadata": {
  "kernelspec": {
   "display_name": "Python 3",
   "language": "python",
   "name": "python3"
  },
  "language_info": {
   "codemirror_mode": {
    "name": "ipython",
    "version": 3
   },
   "file_extension": ".py",
   "mimetype": "text/x-python",
   "name": "python",
   "nbconvert_exporter": "python",
   "pygments_lexer": "ipython3",
   "version": "3.7.6"
  }
 },
 "nbformat": 4,
 "nbformat_minor": 4
}
